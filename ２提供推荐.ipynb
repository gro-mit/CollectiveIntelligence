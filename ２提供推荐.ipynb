{
 "cells": [
  {
   "cell_type": "markdown",
   "metadata": {},
   "source": [
    "### 协作型过滤\n",
    "通过对人群搜索，找出品味相近的一小群，筛选出推荐的列表。\n",
    "### 相似度评价指标\n",
    "* 欧氏距离"
   ]
  },
  {
   "cell_type": "code",
   "execution_count": 7,
   "metadata": {
    "collapsed": false
   },
   "outputs": [
    {
     "data": {
      "text/plain": [
       "0.29429805508554946"
      ]
     },
     "execution_count": 7,
     "metadata": {},
     "output_type": "execute_result"
    }
   ],
   "source": [
    "from critics import critics\n",
    "from math import sqrt\n",
    "def sim_distance(prefs,person1,person2):\n",
    "    si={}\n",
    "    #计算两个用户影评内容的各项的相关列表\n",
    "    for item in prefs[person1]:\n",
    "        if item in prefs[person2]:\n",
    "            si[item]=1\n",
    "    if len(si)==0:\n",
    "        return 0\n",
    "    \n",
    "    sum_of_squares=sum([pow(prefs[person1][item]-prefs[person2][item],2) for item in prefs[person1] if item in prefs[person2]])\n",
    "    #将计算结果映射到［０，１］之间，１为相似度极高\n",
    "    return 1/(1+sqrt(sum_of_squares))\n",
    "\n",
    "sim_distance(critics,'Lisa Rose','Gene Seymour')"
   ]
  },
  {
   "cell_type": "markdown",
   "metadata": {},
   "source": [
    "* 皮尔逊相关系数：\n",
    "\n",
    "    判断两组数据与某一直线拟合程度的度量，取值$\\pm 1$之间（正相关1 负相关-1 无关0）\n",
    "\n",
    "    当数据出现夸大分值情况，可给出更准确的相似度量\n",
    "    \n",
    "    $p_{X,Y}=\\frac{cov(X,Y)}{\\sigma_X\\sigma_Y}＝\\frac{\\sum{XY}-\\frac{\\sum X\\sum Y}{N}}{\\sqrt{(\\sum X^2-\\frac{(\\sum X)^2}{N})(\\sum Y^2-\\frac{(\\sum Y)^2}{N})}}$\n",
    "    "
   ]
  },
  {
   "cell_type": "code",
   "execution_count": 10,
   "metadata": {
    "collapsed": false
   },
   "outputs": [
    {
     "data": {
      "text/plain": [
       "0.39605901719066977"
      ]
     },
     "execution_count": 10,
     "metadata": {},
     "output_type": "execute_result"
    }
   ],
   "source": [
    "def sim_pearson(prefs,p1,p2):\n",
    "    si={}\n",
    "    for item in prefs[p1]:\n",
    "        if item in prefs[p2]:\n",
    "            si[item]=1\n",
    "    if len(si)==0:\n",
    "        return 0\n",
    "    n=len(si)\n",
    "    #偏好求和\n",
    "    sum1=sum([prefs[p1][it] for it in si])\n",
    "    sum2=sum([prefs[p2][it] for it in si])\n",
    "    \n",
    "    sum1sq=sum([pow(prefs[p1][it],2) for it in si])\n",
    "    sum2sq=sum([pow(prefs[p2][it],2) for it in si])\n",
    "    \n",
    "    psum=sum([prefs[p1][it]*prefs[p2][it] for it in si])\n",
    "    #皮尔逊值\n",
    "    num=psum-(sum1*sum2/n)\n",
    "    den=sqrt((sum1sq-pow(sum1,2)/n)*(sum2sq-pow(sum2,2)/n))\n",
    "    if den==0:\n",
    "        return 0\n",
    "    \n",
    "    r=num/den\n",
    "    \n",
    "    return r\n",
    "\n",
    "sim_pearson(critics,'Lisa Rose','Gene Seymour')"
   ]
  },
  {
   "cell_type": "markdown",
   "metadata": {},
   "source": [
    "* Jaccard系数：\n",
    "\n",
    "    两集合的差集与并集的比$J(A,B)=\\frac{|A\\cap B|}{|A\\cup B|}=\\frac{|A\\cap B|}{|A|+|B|-|A\\cap B|}$\n",
    "    \n",
    "    系数越大，相似度越高；元素取值仅能为0或1，信息不丰富"
   ]
  },
  {
   "cell_type": "markdown",
   "metadata": {},
   "source": [
    "### 为用户打分"
   ]
  },
  {
   "cell_type": "code",
   "execution_count": 11,
   "metadata": {
    "collapsed": false
   },
   "outputs": [
    {
     "data": {
      "text/plain": [
       "[(0.9912407071619299, 'Lisa Rose'),\n",
       " (0.9244734516419049, 'Mick LaSalle'),\n",
       " (0.8934051474415647, 'Claudia Puig'),\n",
       " (0.66284898035987, 'Jack Matthews'),\n",
       " (0.38124642583151164, 'Gene Seymour')]"
      ]
     },
     "execution_count": 11,
     "metadata": {},
     "output_type": "execute_result"
    }
   ],
   "source": [
    "def topMatches(prefs,person,n=5,similarity=sim_pearson):\n",
    "    #输出相似度与用户名的元组，并取top n\n",
    "    scores=[(similarity(prefs,person,other),other) for other in prefs if other!=person]\n",
    "    scores.sort()\n",
    "    scores.reverse()\n",
    "    return scores[0:n]\n",
    "\n",
    "topMatches(critics,'Toby',n=5)"
   ]
  },
  {
   "cell_type": "markdown",
   "metadata": {},
   "source": [
    "### 推荐物品\n",
    "标准：用户的相似度乘影评得分并加和／相应用户的相似度之和"
   ]
  },
  {
   "cell_type": "code",
   "execution_count": 15,
   "metadata": {
    "collapsed": false
   },
   "outputs": [
    {
     "data": {
      "text/plain": [
       "[(3.3477895267131013, 'The Night Listener'),\n",
       " (2.8325499182641614, 'Lady in the Water'),\n",
       " (2.5309807037655645, 'Just My Luck')]"
      ]
     },
     "execution_count": 15,
     "metadata": {},
     "output_type": "execute_result"
    }
   ],
   "source": [
    "def getRecommendations(prefs,person,similarity=sim_pearson):\n",
    "    totals={}\n",
    "    simsum={}\n",
    "    for other in prefs:\n",
    "        if other==person:\n",
    "            continue\n",
    "        sim=similarity(prefs,person,other)\n",
    "        if sim<=0:\n",
    "            continue\n",
    "        for item in prefs[other]:\n",
    "            if item not in prefs[person] or prefs[person][item]==0:\n",
    "                totals.setdefault(item,0)\n",
    "                totals[item]+=prefs[other][item]*sim\n",
    "                simsum.setdefault(item,0)\n",
    "                simsum[item]+=sim\n",
    "    ranking=[(total/simsum[item],item) for item,total in totals.items()]\n",
    "    ranking.sort()\n",
    "#     print totals\n",
    "    ranking.reverse()\n",
    "    return ranking\n",
    "\n",
    "getRecommendations(critics,'Toby',similarity=sim_pearson)"
   ]
  },
  {
   "cell_type": "markdown",
   "metadata": {},
   "source": [
    "### 推荐相似度相同的物品"
   ]
  },
  {
   "cell_type": "code",
   "execution_count": 31,
   "metadata": {
    "collapsed": false,
    "scrolled": true
   },
   "outputs": [
    {
     "data": {
      "text/plain": [
       "[(0.5555555555555556, 'The Night Listener'),\n",
       " (-0.3333333333333333, 'Snakes on a Plane'),\n",
       " (-0.42289003161103106, 'Superman Returns'),\n",
       " (-0.4856618642571827, 'You, Me and Dupree'),\n",
       " (-0.9449111825230676, 'Lady in the Water')]"
      ]
     },
     "execution_count": 31,
     "metadata": {},
     "output_type": "execute_result"
    }
   ],
   "source": [
    "def transformPrefs(prefs):\n",
    "    result={}\n",
    "    for person in prefs:\n",
    "        for item in prefs[person]:\n",
    "            result.setdefault(item,{})\n",
    "            result[item][person]=prefs[person][item]\n",
    "    return result\n",
    "\n",
    "film=transformPrefs(critics)\n",
    "topMatches(film,'Just My Luck')"
   ]
  },
  {
   "cell_type": "code",
   "execution_count": 32,
   "metadata": {
    "collapsed": false
   },
   "outputs": [
    {
     "data": {
      "text/plain": [
       "[(4.0, 'Michael Phillips'), (3.0, 'Jack Matthews')]"
      ]
     },
     "execution_count": 32,
     "metadata": {},
     "output_type": "execute_result"
    }
   ],
   "source": [
    "getRecommendations(film,'Just My Luck')"
   ]
  },
  {
   "cell_type": "markdown",
   "metadata": {},
   "source": [
    "### 协作型过滤\n",
    "* 基于用户：以相似的人群喜好推荐相应物品\n",
    "\n",
    "* 基于物品：先计算好物品的相近物品，根据用户历史，推荐相应物品（计算近似物品步骤可预先进行，即物品变化相比用户变化更不频繁）\n",
    "\n",
    "* 类型选择：基于物品会增加存储开销，但比基于用户更快；若数据集稀疏，基于物品的效果更好，若密集，则无差别；若是规模小，且变化频繁的内存数据集，则基于用户更优"
   ]
  }
 ],
 "metadata": {
  "kernelspec": {
   "display_name": "Python 2",
   "language": "python",
   "name": "python2"
  },
  "language_info": {
   "codemirror_mode": {
    "name": "ipython",
    "version": 2
   },
   "file_extension": ".py",
   "mimetype": "text/x-python",
   "name": "python",
   "nbconvert_exporter": "python",
   "pygments_lexer": "ipython2",
   "version": "2.7.13"
  }
 },
 "nbformat": 4,
 "nbformat_minor": 2
}
