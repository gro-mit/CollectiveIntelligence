{
 "cells": [
  {
   "cell_type": "markdown",
   "metadata": {
    "collapsed": true
   },
   "source": [
    "### 对订阅源中的单词进行计数\n",
    "获取订阅源所有单词数"
   ]
  },
  {
   "cell_type": "code",
   "execution_count": null,
   "metadata": {
    "collapsed": false
   },
   "outputs": [],
   "source": [
    "#coding=utf-8\n",
    "import feedparser\n",
    "import re\n",
    "\n",
    "def getwordcounts(url):\n",
    "    d=feedparser.parse(url)\n",
    "    wc={}\n",
    "    for e in d.entries:\n",
    "        if 'summary' in e:\n",
    "            summary=e.summary\n",
    "        else:\n",
    "            summary=e.description\n",
    "        #提取单词表\n",
    "        words=getwords(e.title+' '+summary)\n",
    "        for word in words:\n",
    "            wc.setdefault(word,0)\n",
    "            wc[word]+=1\n",
    "    return d.feed.title,wc\n",
    "\n",
    "def getwords(html):\n",
    "    #删去html标记\n",
    "    txt=re.compile(r'<[^>]+>').sub('',html)\n",
    "    #拆分出单词\n",
    "    words=re.compile(r'[^A-Z^a-z]+').split(txt)\n",
    "    return [word.lower() for word in words if word!='']\n",
    "\n",
    "#生成对不同博客的单词统计以及逆向统计\n",
    "apcount={}\n",
    "wordcounts={}\n",
    "feedlist=[line for line in file('feedlist.txt')]\n",
    "for feedurl in feedlist:\n",
    "    try:\n",
    "        title,wc=getwordcounts(feedurl)\n",
    "        wordcounts[title]=wc\n",
    "        for word,count in wc.items():\n",
    "            apcount.setdefault(word,0)\n",
    "            if count>1:\n",
    "                apcount[word]+=1\n",
    "    except:\n",
    "        print 'Failed to parse feed %s' % feedurl\n",
    "\n",
    "wordlist={}\n",
    "for w,bc in apcount.items():\n",
    "    frac=float(bc)/len(feedlist)\n",
    "    if frac>0.1 and frac<0.5:\n",
    "        wordlist.append(w)\n",
    "\n",
    "out=file('blogdata.txt','w')\n",
    "out.write('Blog')\n",
    "for word in wordlist:\n",
    "    out.write('\\t%s' %word)\n",
    "    for blog,wc in wordcounts.items():\n",
    "        out.write('\\n')\n",
    "        for word in wordlist:\n",
    "            if word in wc:\n",
    "                out.write('\\t%d' % wc[word])\n",
    "            else:\n",
    "                out.write('\\t0')\n",
    "        out.write('\\n')\n",
    "    "
   ]
  },
  {
   "cell_type": "markdown",
   "metadata": {},
   "source": [
    "### k-Means聚类\n",
    "### 针对偏好聚类\n",
    "以MDS作为可视化的手段."
   ]
  }
 ],
 "metadata": {
  "kernelspec": {
   "display_name": "Python 2",
   "language": "python",
   "name": "python2"
  },
  "language_info": {
   "codemirror_mode": {
    "name": "ipython",
    "version": 2
   },
   "file_extension": ".py",
   "mimetype": "text/x-python",
   "name": "python",
   "nbconvert_exporter": "python",
   "pygments_lexer": "ipython2",
   "version": "2.7.13"
  }
 },
 "nbformat": 4,
 "nbformat_minor": 2
}
